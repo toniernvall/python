{
 "cells": [
  {
   "cell_type": "markdown",
   "metadata": {},
   "source": [
    "# Tutustutaan pandas-kirjaston tietorakenteisiin"
   ]
  },
  {
   "cell_type": "code",
   "execution_count": 6,
   "metadata": {},
   "outputs": [],
   "source": [
    "import pandas as pd"
   ]
  },
  {
   "cell_type": "markdown",
   "metadata": {},
   "source": [
    "## Series"
   ]
  },
  {
   "cell_type": "markdown",
   "metadata": {},
   "source": [
    "Luodaan ensin lista"
   ]
  },
  {
   "cell_type": "code",
   "execution_count": 10,
   "metadata": {},
   "outputs": [],
   "source": [
    "lista = ['eka','toka','kolmas']"
   ]
  },
  {
   "cell_type": "markdown",
   "metadata": {},
   "source": [
    "Muutetaan lista Series-objektiksi:"
   ]
  },
  {
   "cell_type": "code",
   "execution_count": 128,
   "metadata": {},
   "outputs": [],
   "source": [
    "sarja = pd.Series(lista)"
   ]
  },
  {
   "cell_type": "code",
   "execution_count": 9,
   "metadata": {},
   "outputs": [
    {
     "data": {
      "text/plain": [
       "0       eka\n",
       "1      toka\n",
       "2    kolmas\n",
       "dtype: object"
      ]
     },
     "execution_count": 9,
     "metadata": {},
     "output_type": "execute_result"
    }
   ],
   "source": [
    "sarja"
   ]
  },
  {
   "cell_type": "markdown",
   "metadata": {},
   "source": [
    "Sarjan alkioihin voi viitata indeksin avulla:"
   ]
  },
  {
   "cell_type": "code",
   "execution_count": 13,
   "metadata": {},
   "outputs": [
    {
     "data": {
      "text/plain": [
       "'toka'"
      ]
     },
     "execution_count": 13,
     "metadata": {},
     "output_type": "execute_result"
    }
   ],
   "source": [
    "sarja[1]"
   ]
  },
  {
   "cell_type": "markdown",
   "metadata": {},
   "source": [
    "Annetaan Series-objekti vielä otsikko:"
   ]
  },
  {
   "cell_type": "code",
   "execution_count": 16,
   "metadata": {},
   "outputs": [],
   "source": [
    "sarja.name = 'otsikko'"
   ]
  },
  {
   "cell_type": "code",
   "execution_count": 17,
   "metadata": {},
   "outputs": [
    {
     "data": {
      "text/plain": [
       "0       eka\n",
       "1      toka\n",
       "2    kolmas\n",
       "Name: otsikko, dtype: object"
      ]
     },
     "execution_count": 17,
     "metadata": {},
     "output_type": "execute_result"
    }
   ],
   "source": [
    "sarja"
   ]
  },
  {
   "cell_type": "markdown",
   "metadata": {},
   "source": [
    "## Dataframe"
   ]
  },
  {
   "cell_type": "markdown",
   "metadata": {},
   "source": [
    "### Luodaan taulukko yhdistämällä Series-objekteja"
   ]
  },
  {
   "cell_type": "markdown",
   "metadata": {},
   "source": [
    "Käytetään nyt Series-objekteja dataframe-objektin luomiseen. Dataframe on tietorakenne, johon voi säilöä taulukkomuodossa dataa."
   ]
  },
  {
   "cell_type": "markdown",
   "metadata": {},
   "source": [
    "Luodaan ensin kolme muuttujaa Series-objekteina:"
   ]
  },
  {
   "cell_type": "code",
   "execution_count": 22,
   "metadata": {},
   "outputs": [],
   "source": [
    "nimi = pd.Series(['Matti','Pekka','Liisa','Anne'])\n",
    "nimi.name = 'nimi'"
   ]
  },
  {
   "cell_type": "code",
   "execution_count": 24,
   "metadata": {},
   "outputs": [],
   "source": [
    "ika = pd.Series([45,32,63,27])\n",
    "ika.name = 'ikä'"
   ]
  },
  {
   "cell_type": "code",
   "execution_count": 25,
   "metadata": {},
   "outputs": [],
   "source": [
    "ammatti = pd.Series(['lääkäri','kirjastovirkailija','veturinkuljettaja','opettaja'])\n",
    "ammatti.name = 'ammatti'"
   ]
  },
  {
   "cell_type": "markdown",
   "metadata": {},
   "source": [
    "Series-objekteja voi yhdistellä concat-funktiolla kahdella tavalla. Katsotaan, mikä merkitystä axis-ominaisuudella on:"
   ]
  },
  {
   "cell_type": "code",
   "execution_count": 131,
   "metadata": {},
   "outputs": [],
   "source": [
    "taulukkoEiJarkeva = pd.concat([nimi,ika,ammatti],axis=0)"
   ]
  },
  {
   "cell_type": "code",
   "execution_count": 132,
   "metadata": {},
   "outputs": [
    {
     "data": {
      "text/plain": [
       "0                 Matti\n",
       "1                 Pekka\n",
       "2                 Liisa\n",
       "3                  Anne\n",
       "0                    45\n",
       "1                    32\n",
       "2                    63\n",
       "3                    27\n",
       "0               lääkäri\n",
       "1    kirjastovirkailija\n",
       "2     veturinkuljettaja\n",
       "3              opettaja\n",
       "dtype: object"
      ]
     },
     "execution_count": 132,
     "metadata": {},
     "output_type": "execute_result"
    }
   ],
   "source": [
    "taulukkoEiJarkeva"
   ]
  },
  {
   "cell_type": "markdown",
   "metadata": {},
   "source": [
    "Tämä ei se, mitä halusimme. Tässä objektit yhdistettiin peräkkäin. Haluamme ne vierekkäin. Pythonissa axis-ominaisuus kertoo tämän suunnan, niin että nolla viittaa tässä mielessä vertikaaliseen yhdistämiseen, kun taas yksi viittaa horisontaaliseen yhdistämiseen. Kokeillaan siis vaihtoehtoa yksi:"
   ]
  },
  {
   "cell_type": "code",
   "execution_count": 133,
   "metadata": {},
   "outputs": [],
   "source": [
    "taulukko1 = pd.concat([nimi,ika,ammatti],axis=1)"
   ]
  },
  {
   "cell_type": "code",
   "execution_count": 134,
   "metadata": {},
   "outputs": [
    {
     "data": {
      "text/html": [
       "<div>\n",
       "<style scoped>\n",
       "    .dataframe tbody tr th:only-of-type {\n",
       "        vertical-align: middle;\n",
       "    }\n",
       "\n",
       "    .dataframe tbody tr th {\n",
       "        vertical-align: top;\n",
       "    }\n",
       "\n",
       "    .dataframe thead th {\n",
       "        text-align: right;\n",
       "    }\n",
       "</style>\n",
       "<table border=\"1\" class=\"dataframe\">\n",
       "  <thead>\n",
       "    <tr style=\"text-align: right;\">\n",
       "      <th></th>\n",
       "      <th>nimi</th>\n",
       "      <th>ikä</th>\n",
       "      <th>ammatti</th>\n",
       "    </tr>\n",
       "  </thead>\n",
       "  <tbody>\n",
       "    <tr>\n",
       "      <th>0</th>\n",
       "      <td>Matti</td>\n",
       "      <td>45</td>\n",
       "      <td>lääkäri</td>\n",
       "    </tr>\n",
       "    <tr>\n",
       "      <th>1</th>\n",
       "      <td>Pekka</td>\n",
       "      <td>32</td>\n",
       "      <td>kirjastovirkailija</td>\n",
       "    </tr>\n",
       "    <tr>\n",
       "      <th>2</th>\n",
       "      <td>Liisa</td>\n",
       "      <td>63</td>\n",
       "      <td>veturinkuljettaja</td>\n",
       "    </tr>\n",
       "    <tr>\n",
       "      <th>3</th>\n",
       "      <td>Anne</td>\n",
       "      <td>27</td>\n",
       "      <td>opettaja</td>\n",
       "    </tr>\n",
       "  </tbody>\n",
       "</table>\n",
       "</div>"
      ],
      "text/plain": [
       "    nimi  ikä             ammatti\n",
       "0  Matti   45             lääkäri\n",
       "1  Pekka   32  kirjastovirkailija\n",
       "2  Liisa   63   veturinkuljettaja\n",
       "3   Anne   27            opettaja"
      ]
     },
     "execution_count": 134,
     "metadata": {},
     "output_type": "execute_result"
    }
   ],
   "source": [
    "taulukko1"
   ]
  },
  {
   "cell_type": "markdown",
   "metadata": {},
   "source": [
    "### Luodaan taulukko suoraan"
   ]
  },
  {
   "cell_type": "markdown",
   "metadata": {},
   "source": [
    "Dataframe-taulukon voi rakentaa suoraankin ilman, että ensin rakentaa kunkin muuttujan erikseen. Kokeillaan tätä seuraavaksi. (Tässä käytetään välivaiheena dictionary-rakennetta.)"
   ]
  },
  {
   "cell_type": "code",
   "execution_count": 135,
   "metadata": {},
   "outputs": [],
   "source": [
    "tiedot = {'nimi': ['Claude Shannon', 'Johann Sebastian Bach', 'Carl Friedrich Gauss','Matti'],\n",
    "          'ikä': [107,338,246,45],\n",
    "          'mieliruoka': ['lihapullat', 'makkara', 'perunalaatikko', 'porkkanaraaste']}"
   ]
  },
  {
   "cell_type": "code",
   "execution_count": 136,
   "metadata": {},
   "outputs": [],
   "source": [
    "taulukko2 = pd.DataFrame(tiedot)"
   ]
  },
  {
   "cell_type": "code",
   "execution_count": 137,
   "metadata": {},
   "outputs": [
    {
     "data": {
      "text/html": [
       "<div>\n",
       "<style scoped>\n",
       "    .dataframe tbody tr th:only-of-type {\n",
       "        vertical-align: middle;\n",
       "    }\n",
       "\n",
       "    .dataframe tbody tr th {\n",
       "        vertical-align: top;\n",
       "    }\n",
       "\n",
       "    .dataframe thead th {\n",
       "        text-align: right;\n",
       "    }\n",
       "</style>\n",
       "<table border=\"1\" class=\"dataframe\">\n",
       "  <thead>\n",
       "    <tr style=\"text-align: right;\">\n",
       "      <th></th>\n",
       "      <th>nimi</th>\n",
       "      <th>ikä</th>\n",
       "      <th>mieliruoka</th>\n",
       "    </tr>\n",
       "  </thead>\n",
       "  <tbody>\n",
       "    <tr>\n",
       "      <th>0</th>\n",
       "      <td>Claude Shannon</td>\n",
       "      <td>107</td>\n",
       "      <td>lihapullat</td>\n",
       "    </tr>\n",
       "    <tr>\n",
       "      <th>1</th>\n",
       "      <td>Johann Sebastian Bach</td>\n",
       "      <td>338</td>\n",
       "      <td>makkara</td>\n",
       "    </tr>\n",
       "    <tr>\n",
       "      <th>2</th>\n",
       "      <td>Carl Friedrich Gauss</td>\n",
       "      <td>246</td>\n",
       "      <td>perunalaatikko</td>\n",
       "    </tr>\n",
       "    <tr>\n",
       "      <th>3</th>\n",
       "      <td>Matti</td>\n",
       "      <td>45</td>\n",
       "      <td>porkkanaraaste</td>\n",
       "    </tr>\n",
       "  </tbody>\n",
       "</table>\n",
       "</div>"
      ],
      "text/plain": [
       "                    nimi  ikä      mieliruoka\n",
       "0         Claude Shannon  107      lihapullat\n",
       "1  Johann Sebastian Bach  338         makkara\n",
       "2   Carl Friedrich Gauss  246  perunalaatikko\n",
       "3                  Matti   45  porkkanaraaste"
      ]
     },
     "execution_count": 137,
     "metadata": {},
     "output_type": "execute_result"
    }
   ],
   "source": [
    "taulukko2"
   ]
  },
  {
   "cell_type": "markdown",
   "metadata": {},
   "source": [
    "### Taulukkojen yhdistäminen vierekkäin ja peräkkäin"
   ]
  },
  {
   "cell_type": "markdown",
   "metadata": {},
   "source": [
    "Yhdistetään taulukko1 ja taulukko2. Ne olivat siis tällaiset:"
   ]
  },
  {
   "cell_type": "code",
   "execution_count": 140,
   "metadata": {},
   "outputs": [
    {
     "data": {
      "text/html": [
       "<div>\n",
       "<style scoped>\n",
       "    .dataframe tbody tr th:only-of-type {\n",
       "        vertical-align: middle;\n",
       "    }\n",
       "\n",
       "    .dataframe tbody tr th {\n",
       "        vertical-align: top;\n",
       "    }\n",
       "\n",
       "    .dataframe thead th {\n",
       "        text-align: right;\n",
       "    }\n",
       "</style>\n",
       "<table border=\"1\" class=\"dataframe\">\n",
       "  <thead>\n",
       "    <tr style=\"text-align: right;\">\n",
       "      <th></th>\n",
       "      <th>nimi</th>\n",
       "      <th>ikä</th>\n",
       "      <th>ammatti</th>\n",
       "    </tr>\n",
       "  </thead>\n",
       "  <tbody>\n",
       "    <tr>\n",
       "      <th>0</th>\n",
       "      <td>Matti</td>\n",
       "      <td>45</td>\n",
       "      <td>lääkäri</td>\n",
       "    </tr>\n",
       "    <tr>\n",
       "      <th>1</th>\n",
       "      <td>Pekka</td>\n",
       "      <td>32</td>\n",
       "      <td>kirjastovirkailija</td>\n",
       "    </tr>\n",
       "    <tr>\n",
       "      <th>2</th>\n",
       "      <td>Liisa</td>\n",
       "      <td>63</td>\n",
       "      <td>veturinkuljettaja</td>\n",
       "    </tr>\n",
       "    <tr>\n",
       "      <th>3</th>\n",
       "      <td>Anne</td>\n",
       "      <td>27</td>\n",
       "      <td>opettaja</td>\n",
       "    </tr>\n",
       "  </tbody>\n",
       "</table>\n",
       "</div>"
      ],
      "text/plain": [
       "    nimi  ikä             ammatti\n",
       "0  Matti   45             lääkäri\n",
       "1  Pekka   32  kirjastovirkailija\n",
       "2  Liisa   63   veturinkuljettaja\n",
       "3   Anne   27            opettaja"
      ]
     },
     "execution_count": 140,
     "metadata": {},
     "output_type": "execute_result"
    }
   ],
   "source": [
    "taulukko1"
   ]
  },
  {
   "cell_type": "code",
   "execution_count": 141,
   "metadata": {},
   "outputs": [
    {
     "data": {
      "text/html": [
       "<div>\n",
       "<style scoped>\n",
       "    .dataframe tbody tr th:only-of-type {\n",
       "        vertical-align: middle;\n",
       "    }\n",
       "\n",
       "    .dataframe tbody tr th {\n",
       "        vertical-align: top;\n",
       "    }\n",
       "\n",
       "    .dataframe thead th {\n",
       "        text-align: right;\n",
       "    }\n",
       "</style>\n",
       "<table border=\"1\" class=\"dataframe\">\n",
       "  <thead>\n",
       "    <tr style=\"text-align: right;\">\n",
       "      <th></th>\n",
       "      <th>nimi</th>\n",
       "      <th>ikä</th>\n",
       "      <th>mieliruoka</th>\n",
       "    </tr>\n",
       "  </thead>\n",
       "  <tbody>\n",
       "    <tr>\n",
       "      <th>0</th>\n",
       "      <td>Claude Shannon</td>\n",
       "      <td>107</td>\n",
       "      <td>lihapullat</td>\n",
       "    </tr>\n",
       "    <tr>\n",
       "      <th>1</th>\n",
       "      <td>Johann Sebastian Bach</td>\n",
       "      <td>338</td>\n",
       "      <td>makkara</td>\n",
       "    </tr>\n",
       "    <tr>\n",
       "      <th>2</th>\n",
       "      <td>Carl Friedrich Gauss</td>\n",
       "      <td>246</td>\n",
       "      <td>perunalaatikko</td>\n",
       "    </tr>\n",
       "    <tr>\n",
       "      <th>3</th>\n",
       "      <td>Matti</td>\n",
       "      <td>45</td>\n",
       "      <td>porkkanaraaste</td>\n",
       "    </tr>\n",
       "  </tbody>\n",
       "</table>\n",
       "</div>"
      ],
      "text/plain": [
       "                    nimi  ikä      mieliruoka\n",
       "0         Claude Shannon  107      lihapullat\n",
       "1  Johann Sebastian Bach  338         makkara\n",
       "2   Carl Friedrich Gauss  246  perunalaatikko\n",
       "3                  Matti   45  porkkanaraaste"
      ]
     },
     "execution_count": 141,
     "metadata": {},
     "output_type": "execute_result"
    }
   ],
   "source": [
    "taulukko2"
   ]
  },
  {
   "cell_type": "code",
   "execution_count": 142,
   "metadata": {},
   "outputs": [],
   "source": [
    "taulukko3 = pd.concat([taulukko1,taulukko2],ignore_index=True,keys=['nimi','nimi'])"
   ]
  },
  {
   "cell_type": "code",
   "execution_count": 143,
   "metadata": {},
   "outputs": [
    {
     "data": {
      "text/html": [
       "<div>\n",
       "<style scoped>\n",
       "    .dataframe tbody tr th:only-of-type {\n",
       "        vertical-align: middle;\n",
       "    }\n",
       "\n",
       "    .dataframe tbody tr th {\n",
       "        vertical-align: top;\n",
       "    }\n",
       "\n",
       "    .dataframe thead th {\n",
       "        text-align: right;\n",
       "    }\n",
       "</style>\n",
       "<table border=\"1\" class=\"dataframe\">\n",
       "  <thead>\n",
       "    <tr style=\"text-align: right;\">\n",
       "      <th></th>\n",
       "      <th>nimi</th>\n",
       "      <th>ikä</th>\n",
       "      <th>ammatti</th>\n",
       "      <th>mieliruoka</th>\n",
       "    </tr>\n",
       "  </thead>\n",
       "  <tbody>\n",
       "    <tr>\n",
       "      <th>0</th>\n",
       "      <td>Matti</td>\n",
       "      <td>45</td>\n",
       "      <td>lääkäri</td>\n",
       "      <td>NaN</td>\n",
       "    </tr>\n",
       "    <tr>\n",
       "      <th>1</th>\n",
       "      <td>Pekka</td>\n",
       "      <td>32</td>\n",
       "      <td>kirjastovirkailija</td>\n",
       "      <td>NaN</td>\n",
       "    </tr>\n",
       "    <tr>\n",
       "      <th>2</th>\n",
       "      <td>Liisa</td>\n",
       "      <td>63</td>\n",
       "      <td>veturinkuljettaja</td>\n",
       "      <td>NaN</td>\n",
       "    </tr>\n",
       "    <tr>\n",
       "      <th>3</th>\n",
       "      <td>Anne</td>\n",
       "      <td>27</td>\n",
       "      <td>opettaja</td>\n",
       "      <td>NaN</td>\n",
       "    </tr>\n",
       "    <tr>\n",
       "      <th>4</th>\n",
       "      <td>Claude Shannon</td>\n",
       "      <td>107</td>\n",
       "      <td>NaN</td>\n",
       "      <td>lihapullat</td>\n",
       "    </tr>\n",
       "    <tr>\n",
       "      <th>5</th>\n",
       "      <td>Johann Sebastian Bach</td>\n",
       "      <td>338</td>\n",
       "      <td>NaN</td>\n",
       "      <td>makkara</td>\n",
       "    </tr>\n",
       "    <tr>\n",
       "      <th>6</th>\n",
       "      <td>Carl Friedrich Gauss</td>\n",
       "      <td>246</td>\n",
       "      <td>NaN</td>\n",
       "      <td>perunalaatikko</td>\n",
       "    </tr>\n",
       "    <tr>\n",
       "      <th>7</th>\n",
       "      <td>Matti</td>\n",
       "      <td>45</td>\n",
       "      <td>NaN</td>\n",
       "      <td>porkkanaraaste</td>\n",
       "    </tr>\n",
       "  </tbody>\n",
       "</table>\n",
       "</div>"
      ],
      "text/plain": [
       "                    nimi  ikä             ammatti      mieliruoka\n",
       "0                  Matti   45             lääkäri             NaN\n",
       "1                  Pekka   32  kirjastovirkailija             NaN\n",
       "2                  Liisa   63   veturinkuljettaja             NaN\n",
       "3                   Anne   27            opettaja             NaN\n",
       "4         Claude Shannon  107                 NaN      lihapullat\n",
       "5  Johann Sebastian Bach  338                 NaN         makkara\n",
       "6   Carl Friedrich Gauss  246                 NaN  perunalaatikko\n",
       "7                  Matti   45                 NaN  porkkanaraaste"
      ]
     },
     "execution_count": 143,
     "metadata": {},
     "output_type": "execute_result"
    }
   ],
   "source": [
    "taulukko3"
   ]
  },
  {
   "cell_type": "markdown",
   "metadata": {},
   "source": [
    "Edellä argumentin ignore_index arvoksi laitetiin True, jotta indeksointi pysyy järkevänä."
   ]
  },
  {
   "cell_type": "markdown",
   "metadata": {},
   "source": [
    "Huomaa, että Matti kuitenkin esiintyy nyt kaksi kertaa, koska ne tulkitaan eri henkilöiksi, joilla vain on sama nimi ja ikä. Yhdistetään taulukot niin, että molemmissa olevat muuttujat nimi ja ikä tulkitaan samoiksi:"
   ]
  },
  {
   "cell_type": "code",
   "execution_count": 126,
   "metadata": {},
   "outputs": [],
   "source": [
    "taulukko4 = taulukko1.merge(taulukko2,on=['nimi','ikä'],how='outer')"
   ]
  },
  {
   "cell_type": "code",
   "execution_count": 144,
   "metadata": {},
   "outputs": [
    {
     "data": {
      "text/html": [
       "<div>\n",
       "<style scoped>\n",
       "    .dataframe tbody tr th:only-of-type {\n",
       "        vertical-align: middle;\n",
       "    }\n",
       "\n",
       "    .dataframe tbody tr th {\n",
       "        vertical-align: top;\n",
       "    }\n",
       "\n",
       "    .dataframe thead th {\n",
       "        text-align: right;\n",
       "    }\n",
       "</style>\n",
       "<table border=\"1\" class=\"dataframe\">\n",
       "  <thead>\n",
       "    <tr style=\"text-align: right;\">\n",
       "      <th></th>\n",
       "      <th>nimi</th>\n",
       "      <th>ikä</th>\n",
       "      <th>ammatti</th>\n",
       "      <th>mieliruoka</th>\n",
       "    </tr>\n",
       "  </thead>\n",
       "  <tbody>\n",
       "    <tr>\n",
       "      <th>0</th>\n",
       "      <td>Matti</td>\n",
       "      <td>45</td>\n",
       "      <td>lääkäri</td>\n",
       "      <td>porkkanaraaste</td>\n",
       "    </tr>\n",
       "    <tr>\n",
       "      <th>1</th>\n",
       "      <td>Pekka</td>\n",
       "      <td>32</td>\n",
       "      <td>kirjastovirkailija</td>\n",
       "      <td>NaN</td>\n",
       "    </tr>\n",
       "    <tr>\n",
       "      <th>2</th>\n",
       "      <td>Liisa</td>\n",
       "      <td>63</td>\n",
       "      <td>veturinkuljettaja</td>\n",
       "      <td>NaN</td>\n",
       "    </tr>\n",
       "    <tr>\n",
       "      <th>3</th>\n",
       "      <td>Anne</td>\n",
       "      <td>27</td>\n",
       "      <td>opettaja</td>\n",
       "      <td>NaN</td>\n",
       "    </tr>\n",
       "    <tr>\n",
       "      <th>4</th>\n",
       "      <td>Claude Shannon</td>\n",
       "      <td>107</td>\n",
       "      <td>NaN</td>\n",
       "      <td>lihapullat</td>\n",
       "    </tr>\n",
       "    <tr>\n",
       "      <th>5</th>\n",
       "      <td>Johann Sebastian Bach</td>\n",
       "      <td>338</td>\n",
       "      <td>NaN</td>\n",
       "      <td>makkara</td>\n",
       "    </tr>\n",
       "    <tr>\n",
       "      <th>6</th>\n",
       "      <td>Carl Friedrich Gauss</td>\n",
       "      <td>246</td>\n",
       "      <td>NaN</td>\n",
       "      <td>perunalaatikko</td>\n",
       "    </tr>\n",
       "  </tbody>\n",
       "</table>\n",
       "</div>"
      ],
      "text/plain": [
       "                    nimi  ikä             ammatti      mieliruoka\n",
       "0                  Matti   45             lääkäri  porkkanaraaste\n",
       "1                  Pekka   32  kirjastovirkailija             NaN\n",
       "2                  Liisa   63   veturinkuljettaja             NaN\n",
       "3                   Anne   27            opettaja             NaN\n",
       "4         Claude Shannon  107                 NaN      lihapullat\n",
       "5  Johann Sebastian Bach  338                 NaN         makkara\n",
       "6   Carl Friedrich Gauss  246                 NaN  perunalaatikko"
      ]
     },
     "execution_count": 144,
     "metadata": {},
     "output_type": "execute_result"
    }
   ],
   "source": [
    "taulukko4"
   ]
  }
 ],
 "metadata": {
  "kernelspec": {
   "display_name": "Python 3",
   "language": "python",
   "name": "python3"
  },
  "language_info": {
   "codemirror_mode": {
    "name": "ipython",
    "version": 3
   },
   "file_extension": ".py",
   "mimetype": "text/x-python",
   "name": "python",
   "nbconvert_exporter": "python",
   "pygments_lexer": "ipython3",
   "version": "3.8.5"
  }
 },
 "nbformat": 4,
 "nbformat_minor": 4
}
